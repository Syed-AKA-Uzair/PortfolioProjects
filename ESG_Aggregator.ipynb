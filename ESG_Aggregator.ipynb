{
 "cells": [
  {
   "cell_type": "code",
   "execution_count": 1,
   "metadata": {},
   "outputs": [],
   "source": [
    "# Importing Libraries\n",
    "\n",
    "import pandas as pd\n",
    "from selenium import webdriver # Selenium Webdriver\n",
    "from bs4 import BeautifulSoup # Beautiful Soup\n",
    "from random import randint\n",
    "from selenium.webdriver.common.by import By\n",
    "from selenium.webdriver.support.ui import WebDriverWait\n",
    "from selenium.webdriver.support import expected_conditions as EC\n",
    "from selenium.webdriver.common.keys import Keys\n",
    "from selenium.webdriver.common.action_chains import ActionChains\n",
    "import time\n",
    "import requests\n",
    "from requests_html import HTMLSession"
   ]
  },
  {
   "cell_type": "markdown",
   "metadata": {},
   "source": [
    "Getting-Input"
   ]
  },
  {
   "cell_type": "code",
   "execution_count": 2,
   "metadata": {},
   "outputs": [],
   "source": [
    "company_name = input(\"Enter the Company Name:\")\n",
    "name_len = len(company_name)"
   ]
  },
  {
   "cell_type": "markdown",
   "metadata": {},
   "source": [
    "Agency-1: Sustainalytics Ratings"
   ]
  },
  {
   "cell_type": "code",
   "execution_count": 3,
   "metadata": {},
   "outputs": [
    {
     "name": "stderr",
     "output_type": "stream",
     "text": [
      "C:\\Users\\Syed Faraz\\AppData\\Local\\Temp\\ipykernel_10664\\3667815726.py:2: DeprecationWarning: executable_path has been deprecated, please pass in a Service object\n",
      "  driver = webdriver.Chrome(PATH)\n"
     ]
    },
    {
     "name": "stdout",
     "output_type": "stream",
     "text": [
      "https://www.sustainalytics.com/esg-rating/marathon-oil-corp/1008193088\n"
     ]
    }
   ],
   "source": [
    "PATH = \"C:\\Program Files (x86)\\chromedriver.exe\" # Web Driver Path\n",
    "driver = webdriver.Chrome(PATH)\n",
    "\n",
    "page_url = \"https://www.sustainalytics.com/esg-ratings\"\n",
    "driver.get(page_url) # Load page using selenium driver\n",
    "\n",
    "cookie_click = driver.find_element(By.ID,\"hs-eu-cookie-confirmation-button-group\") #Handling Cookies\n",
    "cookie_click.click()\n",
    "\n",
    "driver.implicitly_wait(8) # seconds\n",
    "el_search_bar = driver.find_element(By.ID,'searchInput') #Find Search Bar\n",
    "el_search_bar.click()\n",
    "\n",
    "\n",
    "driver.implicitly_wait(10)\n",
    "for i in range(name_len):\n",
    "  el_search_bar.send_keys(company_name[i]) #Enter Company Name in Search Bar\n",
    "  time.sleep(0.25)\n",
    "\n",
    "\n",
    "url=[]\n",
    "time.sleep(15)\n",
    "html = driver.page_source #Extract Page_Source\n",
    "soup = BeautifulSoup(html, 'html.parser') #Parse the source-file with BS4\n",
    "for link in soup.find_all('a',{'class':\"search-link js-fix-path\"}, href = True):\n",
    "  url.append(link['href']) #Find Link for search-result\n",
    "\n",
    "driver.quit()\n",
    "\n",
    "new_url = f\"https://www.sustainalytics.com/{url[0]}\" #Append Link to complete url\n",
    "\n",
    "print(new_url)\n",
    "\n"
   ]
  },
  {
   "cell_type": "markdown",
   "metadata": {},
   "source": [
    "Agency-1: Sustainalytics Ratings Parsing with BS4 & HTMLSession()"
   ]
  },
  {
   "cell_type": "code",
   "execution_count": 4,
   "metadata": {},
   "outputs": [
    {
     "name": "stdout",
     "output_type": "stream",
     "text": [
      "SUSTAINALYTICS RATING\n",
      "Company Name: Marathon Oil Corp.\n",
      "ESG Rating: 42.1\n",
      "Risk Level: Severe Risk\n",
      "Group Rank: 98 out of 253 Companies\n"
     ]
    }
   ],
   "source": [
    "headers = {'User-Agent':'Mozilla/5.0 (Windows NT 10.0; Win64; x64) AppleWebKit/537.36 (KHTML, like Gecko) Chrome/102.0.0.0 Safari/537.36'}\n",
    "s = HTMLSession()\n",
    "r = s.get(new_url,headers=headers) #Go to the link from result and extract \n",
    "soup = BeautifulSoup(r.text,\"html.parser\") #Parse with HTML\n",
    "\n",
    "print(\"SUSTAINALYTICS RATING\")\n",
    "\n",
    "#Find and Print all relevant Data\n",
    "company = soup.find('div',{'class':'row company-name'}).text.strip() \n",
    "print(f\"Company Name: {company}\")\n",
    "\n",
    "esg_sustain = soup.find('div', {'class':'col-6 risk-rating-score'}).text.strip()\n",
    "print(f\"ESG Rating: {esg_sustain}\")\n",
    "\n",
    "risk_assessment = soup.find('div',{'class':'col-6 risk-rating-assessment'}).text.strip()\n",
    "print(f\"Risk Level: {risk_assessment}\")\n",
    "\n",
    "esg_ranking_1 = soup.find('span', {'class':'float-right'}).text.strip()\n",
    "print(f\"Group Rank: {esg_ranking_1} Companies\")\n"
   ]
  },
  {
   "cell_type": "markdown",
   "metadata": {},
   "source": [
    "Agency-2: Refinitiv Ratings"
   ]
  },
  {
   "cell_type": "code",
   "execution_count": 5,
   "metadata": {},
   "outputs": [
    {
     "name": "stderr",
     "output_type": "stream",
     "text": [
      "C:\\Users\\Syed Faraz\\AppData\\Local\\Temp\\ipykernel_10664\\3966185272.py:2: DeprecationWarning: executable_path has been deprecated, please pass in a Service object\n",
      "  driver = webdriver.Chrome(PATH)\n"
     ]
    },
    {
     "name": "stdout",
     "output_type": "stream",
     "text": [
      "REFINITIV RATING\n",
      "Company Name: Marathon Oil Corp.\n",
      "Marathon Oil Corp ESG score (out of 100): 76\n",
      "Group Rank: 26/418 Companies\n"
     ]
    }
   ],
   "source": [
    "PATH = \"C:\\Program Files (x86)\\chromedriver.exe\" # Web Driver Path\n",
    "driver = webdriver.Chrome(PATH)\n",
    "\n",
    "page_url_2 = \"https://www.refinitiv.com/en/sustainable-finance/esg-scores\"\n",
    "driver.get(page_url_2) # Load page using selenium driver\n",
    "\n",
    "cookie_click_2 = driver.find_element(By.ID,\"onetrust-accept-btn-handler\") #Handling Cookies\n",
    "cookie_click_2.click()\n",
    "\n",
    "\n",
    "driver.implicitly_wait(8) # seconds\n",
    "el_search_bar_2 = driver.find_element(By.ID,'searchInput-1') #Find Search-Bar\n",
    "\n",
    "el_search_bar_2.click()\n",
    "\n",
    "\n",
    "driver.implicitly_wait(10)\n",
    "for i in range(name_len):\n",
    "  el_search_bar_2.send_keys(company_name[i]) #Send Input to Search-Bar\n",
    "  time.sleep(0.25)\n",
    "\n",
    "time.sleep(5)\n",
    "driver.implicitly_wait(8)\n",
    "el_search_bar_2.send_keys(Keys.ARROW_DOWN)\n",
    "driver.implicitly_wait(8)\n",
    "el_search_bar_2.send_keys(Keys.ENTER) #Enter the Input\n",
    "\n",
    "\n",
    "time.sleep(15)\n",
    "html_2 = driver.page_source #Extract Page-Source\n",
    "soup_2 = BeautifulSoup(html_2, 'html.parser') #Parse with BS4 \n",
    "# Find all relevant Data\n",
    "esg_text = soup_2.find('h3',{'class':'Heading Heading--m'}).text \n",
    "esg_refinitiv= soup_2.find('strong').text\n",
    "esg_ranking_2 = soup_2.find('h4',{'class':'Heading Heading--xl'}).text\n",
    "\n",
    "\n",
    "driver.quit()\n",
    "\n",
    "#Print the results\n",
    "print(\"REFINITIV RATING\")\n",
    "print(f\"Company Name: {company}\")\n",
    "print(esg_text)\n",
    "print(f\"Group Rank: {esg_ranking_2} Companies\")\n"
   ]
  },
  {
   "cell_type": "markdown",
   "metadata": {},
   "source": [
    "Agency-3: MSCI Ratings"
   ]
  },
  {
   "cell_type": "code",
   "execution_count": 6,
   "metadata": {},
   "outputs": [
    {
     "name": "stderr",
     "output_type": "stream",
     "text": [
      "C:\\Users\\Syed Faraz\\AppData\\Local\\Temp\\ipykernel_10664\\3817719204.py:2: DeprecationWarning: executable_path has been deprecated, please pass in a Service object\n",
      "  driver = webdriver.Chrome(PATH)\n"
     ]
    },
    {
     "name": "stdout",
     "output_type": "stream",
     "text": [
      "Marathon is Average among 20 companies in the oil & gas exploration & production industry.\n",
      "MSCI Rating: BBB\n"
     ]
    }
   ],
   "source": [
    "PATH = \"C:\\Program Files (x86)\\chromedriver.exe\" # Web Driver Path\n",
    "driver = webdriver.Chrome(PATH)\n",
    "\n",
    "page_url_3 = \"https://www.msci.com/research-and-insights/esg-ratings-corporate-search-tool\"\n",
    "driver.get(page_url_3) # Load page using selenium driver\n",
    "\n",
    "cookie_click_3 = driver.find_element(By.ID,\"onetrust-accept-btn-handler\") #Handle Cookies\n",
    "cookie_click_3.click()\n",
    "\n",
    "\n",
    "driver.implicitly_wait(8) # seconds\n",
    "el_search_bar_3 = driver.find_element(By.ID,'_esgratingsprofile_keywords') #Find Search-Bar\n",
    "el_search_bar_3.click()\n",
    "\n",
    "company_len = len(company)\n",
    "\n",
    "driver.implicitly_wait(10)\n",
    "for i in range(company_len):\n",
    "  el_search_bar_3.send_keys(company[i]) #Send Input to Search-Bar\n",
    "  time.sleep(0.25)\n",
    "\n",
    "\n",
    "driver.implicitly_wait(8)\n",
    "el_search_bar_3.send_keys(Keys.ARROW_DOWN)\n",
    "\n",
    "#Submit the Input\n",
    "suggestion = driver.find_element(By.XPATH,\"/html[1]/body[1]/div[1]/section[1]/div[1]/div[1]/div[3]/div[1]/section[1]/div[1]/div[2]/section[1]/div[1]/div[2]/div[1]/div[1]/div[1]/div[2]/ul[1]/li[1]\")\n",
    "actions = ActionChains(driver)\n",
    "actions.move_to_element(suggestion)\n",
    "actions.click(suggestion).perform() \n",
    "\n",
    "#Find all relevant Data\n",
    "esg_score_attr= driver.find_element(By.XPATH,\"/html[1]/body[1]/div[1]/section[1]/div[1]/div[1]/div[3]/div[1]/section[1]/div[1]/div[2]/section[1]/div[1]/div[2]/div[1]/div[1]/div[2]/div[2]/div[1]/div[2]/div[1]/div[1]/div[1]/div[2]/div[1]\").get_attribute(\"class\")\n",
    "esg_split = esg_score_attr.split('-')\n",
    "esg_msci = esg_split[-1].upper()\n",
    "\n",
    "time.sleep(8)\n",
    "html_3 = driver.page_source\n",
    "soup_3 = BeautifulSoup(html_3, 'html.parser')\n",
    "esg_text_3 = soup_3.find('div',{'class':'esg-rating-paragraph esg-rating-paragraph-distr'}).text.strip()\n",
    "\n",
    "driver.quit()\n",
    "\n",
    "#Print the Results\n",
    "print(esg_text_3)\n",
    "print(f\"MSCI Rating: {esg_msci}\")\n",
    "\n"
   ]
  },
  {
   "cell_type": "markdown",
   "metadata": {},
   "source": [
    "Rating Comparison"
   ]
  },
  {
   "cell_type": "code",
   "execution_count": 7,
   "metadata": {},
   "outputs": [
    {
     "name": "stdout",
     "output_type": "stream",
     "text": [
      "MARATHON OIL CORP.\n"
     ]
    },
    {
     "data": {
      "text/html": [
       "<div>\n",
       "<style scoped>\n",
       "    .dataframe tbody tr th:only-of-type {\n",
       "        vertical-align: middle;\n",
       "    }\n",
       "\n",
       "    .dataframe tbody tr th {\n",
       "        vertical-align: top;\n",
       "    }\n",
       "\n",
       "    .dataframe thead th {\n",
       "        text-align: right;\n",
       "    }\n",
       "</style>\n",
       "<table border=\"1\" class=\"dataframe\">\n",
       "  <thead>\n",
       "    <tr style=\"text-align: right;\">\n",
       "      <th></th>\n",
       "      <th>MSCI</th>\n",
       "      <th>Refinitiv</th>\n",
       "      <th>Sustainalytics</th>\n",
       "    </tr>\n",
       "  </thead>\n",
       "  <tbody>\n",
       "    <tr>\n",
       "      <th>ESG-Rating</th>\n",
       "      <td>BBB</td>\n",
       "      <td>76</td>\n",
       "      <td>42.1</td>\n",
       "    </tr>\n",
       "  </tbody>\n",
       "</table>\n",
       "</div>"
      ],
      "text/plain": [
       "           MSCI Refinitiv Sustainalytics\n",
       "ESG-Rating  BBB        76           42.1"
      ]
     },
     "execution_count": 7,
     "metadata": {},
     "output_type": "execute_result"
    }
   ],
   "source": [
    "#Build DataFrame to print Ratings\n",
    "print(company.upper())\n",
    "frame = pd.DataFrame({\"MSCI\":esg_msci, \"Refinitiv\":esg_refinitiv, \"Sustainalytics\":esg_sustain}, index=[\"ESG-Rating\"])\n",
    "frame"
   ]
  },
  {
   "cell_type": "markdown",
   "metadata": {},
   "source": [
    "Aggregating Scores"
   ]
  },
  {
   "cell_type": "code",
   "execution_count": 8,
   "metadata": {},
   "outputs": [
    {
     "data": {
      "text/html": [
       "<div>\n",
       "<style scoped>\n",
       "    .dataframe tbody tr th:only-of-type {\n",
       "        vertical-align: middle;\n",
       "    }\n",
       "\n",
       "    .dataframe tbody tr th {\n",
       "        vertical-align: top;\n",
       "    }\n",
       "\n",
       "    .dataframe thead th {\n",
       "        text-align: right;\n",
       "    }\n",
       "</style>\n",
       "<table border=\"1\" class=\"dataframe\">\n",
       "  <thead>\n",
       "    <tr style=\"text-align: right;\">\n",
       "      <th></th>\n",
       "      <th>MSCI</th>\n",
       "      <th>Refinitiv</th>\n",
       "      <th>Sustainalytics</th>\n",
       "    </tr>\n",
       "  </thead>\n",
       "  <tbody>\n",
       "    <tr>\n",
       "      <th>STAR</th>\n",
       "      <td>4</td>\n",
       "      <td>5</td>\n",
       "      <td>2</td>\n",
       "    </tr>\n",
       "  </tbody>\n",
       "</table>\n",
       "</div>"
      ],
      "text/plain": [
       "      MSCI  Refinitiv  Sustainalytics\n",
       "STAR     4          5               2"
      ]
     },
     "execution_count": 8,
     "metadata": {},
     "output_type": "execute_result"
    }
   ],
   "source": [
    "# Aggregating MSCI\n",
    "if esg_msci=='AAA':\n",
    "    msci = 7\n",
    "elif esg_msci=='AA':\n",
    "    msci = 6\n",
    "elif esg_msci=='A':\n",
    "    msci = 5\n",
    "elif esg_msci=='BBB':\n",
    "    msci = 4\n",
    "elif esg_msci=='BB':\n",
    "    msci = 3\n",
    "elif esg_msci=='B':\n",
    "    msci = 2\n",
    "else:\n",
    "    msci = 1\n",
    "\n",
    "# Aggregating Refinitiv\n",
    "esg_refinitiv = int(esg_refinitiv)\n",
    "\n",
    "if esg_refinitiv>=90:\n",
    "    refinitiv = 7\n",
    "elif esg_refinitiv>=80 and esg_refinitiv<90:\n",
    "    refinitiv = 6\n",
    "elif esg_refinitiv>=70 and esg_refinitiv<80:\n",
    "    refinitiv = 5\n",
    "elif esg_refinitiv>=60 and esg_refinitiv<70:\n",
    "    refinitiv = 4\n",
    "elif esg_refinitiv>=50 and esg_refinitiv<60:\n",
    "    refinitiv = 3\n",
    "elif esg_refinitiv>=25 and esg_refinitiv<50:\n",
    "    refinitiv = 2\n",
    "else:\n",
    "    refinitiv = 1\n",
    "\n",
    "# Aggregating Sustainalytics\n",
    "esg_sustain = float(esg_sustain)\n",
    "\n",
    "if esg_sustain>=0 and esg_sustain<10:\n",
    "    sustain = 7\n",
    "elif esg_sustain>=10 and esg_sustain<15:\n",
    "    sustain = 6\n",
    "elif esg_sustain>=15 and esg_sustain<20:\n",
    "    sustain = 5\n",
    "elif esg_sustain>=20 and esg_sustain<30:\n",
    "    sustain = 4\n",
    "elif esg_sustain>=30 and esg_sustain<40:\n",
    "    sustain = 3\n",
    "elif esg_sustain>=40 and esg_sustain<50:\n",
    "    sustain = 2\n",
    "else:\n",
    "    sustain = 1\n",
    "\n",
    "agg_frame = pd.DataFrame({\"MSCI\":msci,\"Refinitiv\":refinitiv,\"Sustainalytics\":sustain}, index=[\"STAR\"])\n",
    "\n",
    "#Total Aggregate Stars \n",
    "aggregate = round((msci+refinitiv+sustain)/3,1)\n",
    "\n",
    "agg_frame\n",
    "\n"
   ]
  },
  {
   "cell_type": "code",
   "execution_count": 9,
   "metadata": {},
   "outputs": [
    {
     "name": "stdout",
     "output_type": "stream",
     "text": [
      "\n",
      "Marathon Oil Corp. has an aggregate of: 3.7 out of 7 STARS\n"
     ]
    }
   ],
   "source": [
    "print(f\"\\n{company} has an aggregate of: {aggregate} out of 7 STARS\") #Print Aggregate Stars"
   ]
  },
  {
   "cell_type": "code",
   "execution_count": null,
   "metadata": {},
   "outputs": [],
   "source": []
  }
 ],
 "metadata": {
  "interpreter": {
   "hash": "a7ccd2fa8b0839c3e4dad089749457d324df7ae023612744291a8b4ca65af464"
  },
  "kernelspec": {
   "display_name": "Python 3.9.7 ('base')",
   "language": "python",
   "name": "python3"
  },
  "language_info": {
   "codemirror_mode": {
    "name": "ipython",
    "version": 3
   },
   "file_extension": ".py",
   "mimetype": "text/x-python",
   "name": "python",
   "nbconvert_exporter": "python",
   "pygments_lexer": "ipython3",
   "version": "3.9.7"
  },
  "orig_nbformat": 4
 },
 "nbformat": 4,
 "nbformat_minor": 2
}
